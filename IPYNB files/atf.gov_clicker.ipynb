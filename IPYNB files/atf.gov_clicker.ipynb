{
 "cells": [
  {
   "cell_type": "markdown",
   "id": "68950c8f",
   "metadata": {},
   "source": [
    "#### This program will click all the links needed to acquire the traced firearm data from atf.gov from years 2014-2020"
   ]
  },
  {
   "cell_type": "code",
   "execution_count": 4,
   "id": "dd4f6fcd",
   "metadata": {},
   "outputs": [],
   "source": [
    "from splinter import Browser\n",
    "from webdriver_manager.chrome import ChromeDriverManager"
   ]
  },
  {
   "cell_type": "code",
   "execution_count": 18,
   "id": "23e38162",
   "metadata": {},
   "outputs": [
    {
     "name": "stderr",
     "output_type": "stream",
     "text": [
      "\n",
      "\n",
      "====== WebDriver manager ======\n",
      "Current google-chrome version is 96.0.4664\n",
      "Get LATEST chromedriver version for 96.0.4664 google-chrome\n",
      "Driver [C:\\Users\\Alec\\.wdm\\drivers\\chromedriver\\win32\\96.0.4664.45\\chromedriver.exe] found in cache\n"
     ]
    }
   ],
   "source": [
    "executable_path = {'executable_path': ChromeDriverManager().install()}\n",
    "browser = Browser('chrome', **executable_path, headless=False)"
   ]
  },
  {
   "cell_type": "code",
   "execution_count": 19,
   "id": "88443054",
   "metadata": {},
   "outputs": [
    {
     "name": "stdout",
     "output_type": "stream",
     "text": [
      "dismissed popup\n",
      "clicked the link\n",
      "download complete\n",
      "clicked the link\n",
      "download complete\n",
      "clicked the link\n",
      "download complete\n",
      "clicked the link\n",
      "download complete\n",
      "clicked the link\n",
      "download complete\n",
      "clicked the link\n",
      "download complete\n",
      "clicked the link\n",
      "download complete\n"
     ]
    }
   ],
   "source": [
    "url = 'https://www.atf.gov/resource-center/firearms-trace-data-2014'\n",
    "browser.visit(url)\n",
    "browser.find_by_id('prefix-dismissButton').click()\n",
    "print('dismissed popup')\n",
    "\n",
    "# set x = 0 for url_year manipulation\n",
    "x = 0\n",
    "\n",
    "# initialize loop\n",
    "for x in range(7):\n",
    "    # only files available are from 2014-present\n",
    "    year = str(x + 2014)\n",
    "    #this url cycles with the range\n",
    "    browser.visit(f'https://www.atf.gov/resource-center/firearms-trace-data-{year}')\n",
    "    # this finds the xlsx sheet and clicks the download link\n",
    "    browser.links.find_by_partial_text('Number of Firearms Sourced and Recovered in the United States and Territories').click()\n",
    "    print('clicked the link')\n",
    "    print('download complete')\n",
    "    print('-----------------------')"
   ]
  },
  {
   "cell_type": "code",
   "execution_count": null,
   "id": "9e716fbe",
   "metadata": {},
   "outputs": [],
   "source": []
  }
 ],
 "metadata": {
  "kernelspec": {
   "display_name": "Python 3",
   "language": "python",
   "name": "python3"
  },
  "language_info": {
   "codemirror_mode": {
    "name": "ipython",
    "version": 3
   },
   "file_extension": ".py",
   "mimetype": "text/x-python",
   "name": "python",
   "nbconvert_exporter": "python",
   "pygments_lexer": "ipython3",
   "version": "3.8.8"
  }
 },
 "nbformat": 4,
 "nbformat_minor": 5
}
